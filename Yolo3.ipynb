{
  "nbformat": 4,
  "nbformat_minor": 0,
  "metadata": {
    "colab": {
      "provenance": [],
      "gpuType": "T4",
      "authorship_tag": "ABX9TyPAjAJsy90GdXi1cJHw2Mj2",
      "include_colab_link": true
    },
    "kernelspec": {
      "name": "python3",
      "display_name": "Python 3"
    },
    "language_info": {
      "name": "python"
    },
    "accelerator": "GPU"
  },
  "cells": [
    {
      "cell_type": "markdown",
      "metadata": {
        "id": "view-in-github",
        "colab_type": "text"
      },
      "source": [
        "<a href=\"https://colab.research.google.com/github/EhsanDrn2207/Deep-Learning-/blob/main/Yolo3.ipynb\" target=\"_parent\"><img src=\"https://colab.research.google.com/assets/colab-badge.svg\" alt=\"Open In Colab\"/></a>"
      ]
    },
    {
      "cell_type": "markdown",
      "source": [
        "## **YoloV3 with ImageIa**"
      ],
      "metadata": {
        "id": "Po98yM3E-E8s"
      }
    },
    {
      "cell_type": "code",
      "source": [
        "!pip install imageai"
      ],
      "metadata": {
        "colab": {
          "base_uri": "https://localhost:8080/"
        },
        "id": "ERPSI_U9-PHp",
        "outputId": "507a3449-d0c3-4824-c82b-d3530acd8cf4"
      },
      "execution_count": null,
      "outputs": [
        {
          "output_type": "stream",
          "name": "stdout",
          "text": [
            "Collecting imageai\n",
            "  Downloading imageai-3.0.3-py3-none-any.whl.metadata (340 bytes)\n",
            "Downloading imageai-3.0.3-py3-none-any.whl (69 kB)\n",
            "\u001b[?25l   \u001b[90m━━━━━━━━━━━━━━━━━━━━━━━━━━━━━━━━━━━━━━━━\u001b[0m \u001b[32m0.0/69.8 kB\u001b[0m \u001b[31m?\u001b[0m eta \u001b[36m-:--:--\u001b[0m\r\u001b[2K   \u001b[90m━━━━━━━━━━━━━━━━━━━━━━━━━━━━━━━━━━━━━━━━\u001b[0m \u001b[32m69.8/69.8 kB\u001b[0m \u001b[31m6.0 MB/s\u001b[0m eta \u001b[36m0:00:00\u001b[0m\n",
            "\u001b[?25hInstalling collected packages: imageai\n",
            "Successfully installed imageai-3.0.3\n"
          ]
        }
      ]
    },
    {
      "cell_type": "code",
      "source": [
        "from imageai.Detection import ObjectDetection, VideoObjectDetection\n",
        "import os"
      ],
      "metadata": {
        "id": "J3s4QLUg-BUz"
      },
      "execution_count": null,
      "outputs": []
    },
    {
      "cell_type": "markdown",
      "source": [
        "## **Connection with google drive account**"
      ],
      "metadata": {
        "id": "xP5T3uke-bIU"
      }
    },
    {
      "cell_type": "code",
      "source": [
        "from google.colab import drive\n",
        "drive.mount('/content/gdrive')"
      ],
      "metadata": {
        "id": "SqAIAeXp-aTy",
        "colab": {
          "base_uri": "https://localhost:8080/"
        },
        "outputId": "f5d5db8e-2ce8-47ec-e1a5-7c4e77020fc9"
      },
      "execution_count": 4,
      "outputs": [
        {
          "output_type": "stream",
          "name": "stdout",
          "text": [
            "Mounted at /content/gdrive\n"
          ]
        }
      ]
    },
    {
      "cell_type": "markdown",
      "source": [
        "## **specify model's path**"
      ],
      "metadata": {
        "id": "cEAyF_u-AbkD"
      }
    },
    {
      "cell_type": "code",
      "source": [
        "model_path = \"/content/gdrive/MyDrive/models/\"\n",
        "images_path = \"/content/gdrive/MyDrive/images/\"\n",
        "video_path = \"/content/gdrive/MyDrive/videos/\""
      ],
      "metadata": {
        "id": "FoAJYB0H-Zpr"
      },
      "execution_count": 19,
      "outputs": []
    },
    {
      "cell_type": "markdown",
      "source": [
        "## **Implement object detection model on photos**"
      ],
      "metadata": {
        "id": "F9PMOm-IAm9O"
      }
    },
    {
      "cell_type": "code",
      "source": [
        "detector = ObjectDetection()"
      ],
      "metadata": {
        "id": "UId1p8zpAS2c"
      },
      "execution_count": 6,
      "outputs": []
    },
    {
      "cell_type": "code",
      "source": [
        "detector.setModelTypeAsYOLOv3()"
      ],
      "metadata": {
        "id": "jDbU1bCdAYXj"
      },
      "execution_count": 7,
      "outputs": []
    },
    {
      "cell_type": "code",
      "source": [
        "detector.setModelPath(os.path.join(model_path , \"yolov3.pt\"))"
      ],
      "metadata": {
        "id": "3LuWofhvA03U"
      },
      "execution_count": 10,
      "outputs": []
    },
    {
      "cell_type": "code",
      "source": [
        "detector.loadModel()"
      ],
      "metadata": {
        "colab": {
          "base_uri": "https://localhost:8080/"
        },
        "id": "y3V-sBQWBDgz",
        "outputId": "5d9e099a-366b-47d2-e1fd-f8504078353a"
      },
      "execution_count": 11,
      "outputs": [
        {
          "output_type": "stream",
          "name": "stderr",
          "text": [
            "/usr/local/lib/python3.11/dist-packages/imageai/Detection/__init__.py:255: FutureWarning: You are using `torch.load` with `weights_only=False` (the current default value), which uses the default pickle module implicitly. It is possible to construct malicious pickle data which will execute arbitrary code during unpickling (See https://github.com/pytorch/pytorch/blob/main/SECURITY.md#untrusted-models for more details). In a future release, the default value for `weights_only` will be flipped to `True`. This limits the functions that could be executed during unpickling. Arbitrary objects will no longer be allowed to be loaded via this mode unless they are explicitly allowlisted by the user via `torch.serialization.add_safe_globals`. We recommend you start setting `weights_only=True` for any use case where you don't have full control of the loaded file. Please open an issue on GitHub for any issues related to this experimental feature.\n",
            "  state_dict = torch.load(self.__model_path, map_location=self.__device)\n"
          ]
        }
      ]
    },
    {
      "cell_type": "code",
      "source": [
        "detection = detector.detectObjectsFromImage(input_image=os.path.join(images_path, \"snowboard2.jpeg\"), output_image_path = os.path.join(images_path, \"snowboard2_detected.jpg\"))"
      ],
      "metadata": {
        "id": "v_Uv8h43BQoF"
      },
      "execution_count": 20,
      "outputs": []
    },
    {
      "cell_type": "code",
      "source": [
        "detection"
      ],
      "metadata": {
        "colab": {
          "base_uri": "https://localhost:8080/"
        },
        "collapsed": true,
        "id": "ovHtHe6kGAt0",
        "outputId": "8449bef2-ffad-4821-a8ff-08a68a793af1"
      },
      "execution_count": 21,
      "outputs": [
        {
          "output_type": "execute_result",
          "data": {
            "text/plain": [
              "[{'name': 'person',\n",
              "  'percentage_probability': 99.99,\n",
              "  'box_points': [157, 560, 388, 741]},\n",
              " {'name': 'snowboard',\n",
              "  'percentage_probability': 99.86,\n",
              "  'box_points': [158, 723, 463, 787]}]"
            ]
          },
          "metadata": {},
          "execution_count": 21
        }
      ]
    },
    {
      "cell_type": "markdown",
      "source": [
        "## **Implement object detection model on videos**"
      ],
      "metadata": {
        "id": "zQJcdGQJGGRH"
      }
    },
    {
      "cell_type": "code",
      "source": [
        "video_detector = VideoObjectDetection()"
      ],
      "metadata": {
        "id": "YQ2DzYKBGF7E"
      },
      "execution_count": 22,
      "outputs": []
    },
    {
      "cell_type": "code",
      "source": [
        "video_detector.setModelTypeAsYOLOv3()"
      ],
      "metadata": {
        "id": "fBfQS0NRHrLF"
      },
      "execution_count": 23,
      "outputs": []
    },
    {
      "cell_type": "code",
      "source": [
        "video_detector.setModelPath(os.path.join(model_path , \"yolov3.pt\"))\n",
        "video_detector.loadModel()"
      ],
      "metadata": {
        "id": "6pDVCx8sHvON"
      },
      "execution_count": null,
      "outputs": []
    },
    {
      "cell_type": "code",
      "source": [
        "vid_detection = video_detector.detectObjectsFromVideo(input_file_path= os.path.join(video_path, \"x1.mp4\"), output_file_path= os.path.join(video_path, \"x1_det\"), frames_per_second=20, log_progress=True)"
      ],
      "metadata": {
        "colab": {
          "base_uri": "https://localhost:8080/"
        },
        "collapsed": true,
        "id": "esabkW5iH9Cc",
        "outputId": "6a42e1fa-2bed-4b5d-8384-f7a34ae2e9b8"
      },
      "execution_count": 30,
      "outputs": [
        {
          "output_type": "stream",
          "name": "stdout",
          "text": [
            "Processing Frame :  1\n",
            "Processing Frame :  2\n",
            "Processing Frame :  3\n",
            "Processing Frame :  4\n",
            "Processing Frame :  5\n",
            "Processing Frame :  6\n",
            "Processing Frame :  7\n",
            "Processing Frame :  8\n",
            "Processing Frame :  9\n",
            "Processing Frame :  10\n",
            "Processing Frame :  11\n",
            "Processing Frame :  12\n",
            "Processing Frame :  13\n",
            "Processing Frame :  14\n",
            "Processing Frame :  15\n",
            "Processing Frame :  16\n",
            "Processing Frame :  17\n",
            "Processing Frame :  18\n",
            "Processing Frame :  19\n",
            "Processing Frame :  20\n",
            "Processing Frame :  21\n",
            "Processing Frame :  22\n",
            "Processing Frame :  23\n",
            "Processing Frame :  24\n",
            "Processing Frame :  25\n",
            "Processing Frame :  26\n",
            "Processing Frame :  27\n",
            "Processing Frame :  28\n",
            "Processing Frame :  29\n",
            "Processing Frame :  30\n",
            "Processing Frame :  31\n",
            "Processing Frame :  32\n",
            "Processing Frame :  33\n",
            "Processing Frame :  34\n",
            "Processing Frame :  35\n",
            "Processing Frame :  36\n",
            "Processing Frame :  37\n",
            "Processing Frame :  38\n",
            "Processing Frame :  39\n",
            "Processing Frame :  40\n",
            "Processing Frame :  41\n",
            "Processing Frame :  42\n",
            "Processing Frame :  43\n",
            "Processing Frame :  44\n",
            "Processing Frame :  45\n",
            "Processing Frame :  46\n",
            "Processing Frame :  47\n",
            "Processing Frame :  48\n",
            "Processing Frame :  49\n",
            "Processing Frame :  50\n",
            "Processing Frame :  51\n",
            "Processing Frame :  52\n",
            "Processing Frame :  53\n",
            "Processing Frame :  54\n",
            "Processing Frame :  55\n",
            "Processing Frame :  56\n",
            "Processing Frame :  57\n",
            "Processing Frame :  58\n",
            "Processing Frame :  59\n",
            "Processing Frame :  60\n",
            "Processing Frame :  61\n",
            "Processing Frame :  62\n",
            "Processing Frame :  63\n",
            "Processing Frame :  64\n",
            "Processing Frame :  65\n",
            "Processing Frame :  66\n",
            "Processing Frame :  67\n",
            "Processing Frame :  68\n",
            "Processing Frame :  69\n",
            "Processing Frame :  70\n",
            "Processing Frame :  71\n",
            "Processing Frame :  72\n",
            "Processing Frame :  73\n",
            "Processing Frame :  74\n",
            "Processing Frame :  75\n",
            "Processing Frame :  76\n",
            "Processing Frame :  77\n",
            "Processing Frame :  78\n",
            "Processing Frame :  79\n",
            "Processing Frame :  80\n",
            "Processing Frame :  81\n",
            "Processing Frame :  82\n",
            "Processing Frame :  83\n",
            "Processing Frame :  84\n",
            "Processing Frame :  85\n",
            "Processing Frame :  86\n",
            "Processing Frame :  87\n",
            "Processing Frame :  88\n",
            "Processing Frame :  89\n",
            "Processing Frame :  90\n",
            "Processing Frame :  91\n",
            "Processing Frame :  92\n",
            "Processing Frame :  93\n",
            "Processing Frame :  94\n",
            "Processing Frame :  95\n",
            "Processing Frame :  96\n",
            "Processing Frame :  97\n",
            "Processing Frame :  98\n",
            "Processing Frame :  99\n",
            "Processing Frame :  100\n",
            "Processing Frame :  101\n",
            "Processing Frame :  102\n",
            "Processing Frame :  103\n",
            "Processing Frame :  104\n",
            "Processing Frame :  105\n",
            "Processing Frame :  106\n",
            "Processing Frame :  107\n",
            "Processing Frame :  108\n",
            "Processing Frame :  109\n",
            "Processing Frame :  110\n",
            "Processing Frame :  111\n",
            "Processing Frame :  112\n",
            "Processing Frame :  113\n",
            "Processing Frame :  114\n",
            "Processing Frame :  115\n",
            "Processing Frame :  116\n",
            "Processing Frame :  117\n",
            "Processing Frame :  118\n",
            "Processing Frame :  119\n",
            "Processing Frame :  120\n",
            "Processing Frame :  121\n",
            "Processing Frame :  122\n",
            "Processing Frame :  123\n",
            "Processing Frame :  124\n",
            "Processing Frame :  125\n",
            "Processing Frame :  126\n",
            "Processing Frame :  127\n",
            "Processing Frame :  128\n",
            "Processing Frame :  129\n",
            "Processing Frame :  130\n",
            "Processing Frame :  131\n",
            "Processing Frame :  132\n",
            "Processing Frame :  133\n",
            "Processing Frame :  134\n",
            "Processing Frame :  135\n",
            "Processing Frame :  136\n",
            "Processing Frame :  137\n",
            "Processing Frame :  138\n",
            "Processing Frame :  139\n",
            "Processing Frame :  140\n",
            "Processing Frame :  141\n",
            "Processing Frame :  142\n",
            "Processing Frame :  143\n",
            "Processing Frame :  144\n",
            "Processing Frame :  145\n",
            "Processing Frame :  146\n",
            "Processing Frame :  147\n",
            "Processing Frame :  148\n",
            "Processing Frame :  149\n",
            "Processing Frame :  150\n",
            "Processing Frame :  151\n",
            "Processing Frame :  152\n",
            "Processing Frame :  153\n",
            "Processing Frame :  154\n",
            "Processing Frame :  155\n",
            "Processing Frame :  156\n",
            "Processing Frame :  157\n",
            "Processing Frame :  158\n",
            "Processing Frame :  159\n",
            "Processing Frame :  160\n",
            "Processing Frame :  161\n",
            "Processing Frame :  162\n",
            "Processing Frame :  163\n",
            "Processing Frame :  164\n",
            "Processing Frame :  165\n",
            "Processing Frame :  166\n",
            "Processing Frame :  167\n",
            "Processing Frame :  168\n",
            "Processing Frame :  169\n",
            "Processing Frame :  170\n",
            "Processing Frame :  171\n",
            "Processing Frame :  172\n",
            "Processing Frame :  173\n",
            "Processing Frame :  174\n",
            "Processing Frame :  175\n",
            "Processing Frame :  176\n",
            "Processing Frame :  177\n",
            "Processing Frame :  178\n",
            "Processing Frame :  179\n",
            "Processing Frame :  180\n",
            "Processing Frame :  181\n",
            "Processing Frame :  182\n",
            "Processing Frame :  183\n",
            "Processing Frame :  184\n",
            "Processing Frame :  185\n",
            "Processing Frame :  186\n",
            "Processing Frame :  187\n",
            "Processing Frame :  188\n",
            "Processing Frame :  189\n",
            "Processing Frame :  190\n",
            "Processing Frame :  191\n",
            "Processing Frame :  192\n",
            "Processing Frame :  193\n",
            "Processing Frame :  194\n",
            "Processing Frame :  195\n",
            "Processing Frame :  196\n",
            "Processing Frame :  197\n",
            "Processing Frame :  198\n",
            "Processing Frame :  199\n",
            "Processing Frame :  200\n",
            "Processing Frame :  201\n",
            "Processing Frame :  202\n",
            "Processing Frame :  203\n",
            "Processing Frame :  204\n",
            "Processing Frame :  205\n",
            "Processing Frame :  206\n",
            "Processing Frame :  207\n",
            "Processing Frame :  208\n",
            "Processing Frame :  209\n",
            "Processing Frame :  210\n",
            "Processing Frame :  211\n",
            "Processing Frame :  212\n",
            "Processing Frame :  213\n",
            "Processing Frame :  214\n",
            "Processing Frame :  215\n",
            "Processing Frame :  216\n",
            "Processing Frame :  217\n",
            "Processing Frame :  218\n",
            "Processing Frame :  219\n",
            "Processing Frame :  220\n",
            "Processing Frame :  221\n",
            "Processing Frame :  222\n",
            "Processing Frame :  223\n",
            "Processing Frame :  224\n",
            "Processing Frame :  225\n",
            "Processing Frame :  226\n",
            "Processing Frame :  227\n",
            "Processing Frame :  228\n",
            "Processing Frame :  229\n",
            "Processing Frame :  230\n",
            "Processing Frame :  231\n",
            "Processing Frame :  232\n",
            "Processing Frame :  233\n",
            "Processing Frame :  234\n",
            "Processing Frame :  235\n",
            "Processing Frame :  236\n",
            "Processing Frame :  237\n",
            "Processing Frame :  238\n",
            "Processing Frame :  239\n",
            "Processing Frame :  240\n",
            "Processing Frame :  241\n",
            "Processing Frame :  242\n",
            "Processing Frame :  243\n",
            "Processing Frame :  244\n",
            "Processing Frame :  245\n",
            "Processing Frame :  246\n",
            "Processing Frame :  247\n",
            "Processing Frame :  248\n",
            "Processing Frame :  249\n",
            "Processing Frame :  250\n",
            "Processing Frame :  251\n",
            "Processing Frame :  252\n",
            "Processing Frame :  253\n",
            "Processing Frame :  254\n",
            "Processing Frame :  255\n",
            "Processing Frame :  256\n",
            "Processing Frame :  257\n",
            "Processing Frame :  258\n",
            "Processing Frame :  259\n",
            "Processing Frame :  260\n",
            "Processing Frame :  261\n",
            "Processing Frame :  262\n",
            "Processing Frame :  263\n",
            "Processing Frame :  264\n",
            "Processing Frame :  265\n",
            "Processing Frame :  266\n",
            "Processing Frame :  267\n",
            "Processing Frame :  268\n",
            "Processing Frame :  269\n",
            "Processing Frame :  270\n",
            "Processing Frame :  271\n",
            "Processing Frame :  272\n",
            "Processing Frame :  273\n",
            "Processing Frame :  274\n",
            "Processing Frame :  275\n",
            "Processing Frame :  276\n",
            "Processing Frame :  277\n",
            "Processing Frame :  278\n",
            "Processing Frame :  279\n",
            "Processing Frame :  280\n",
            "Processing Frame :  281\n",
            "Processing Frame :  282\n",
            "Processing Frame :  283\n",
            "Processing Frame :  284\n",
            "Processing Frame :  285\n",
            "Processing Frame :  286\n",
            "Processing Frame :  287\n",
            "Processing Frame :  288\n",
            "Processing Frame :  289\n",
            "Processing Frame :  290\n",
            "Processing Frame :  291\n",
            "Processing Frame :  292\n",
            "Processing Frame :  293\n",
            "Processing Frame :  294\n",
            "Processing Frame :  295\n",
            "Processing Frame :  296\n",
            "Processing Frame :  297\n",
            "Processing Frame :  298\n",
            "Processing Frame :  299\n",
            "Processing Frame :  300\n",
            "Processing Frame :  301\n",
            "Processing Frame :  302\n",
            "Processing Frame :  303\n",
            "Processing Frame :  304\n",
            "Processing Frame :  305\n",
            "Processing Frame :  306\n",
            "Processing Frame :  307\n",
            "Processing Frame :  308\n",
            "Processing Frame :  309\n",
            "Processing Frame :  310\n",
            "Processing Frame :  311\n",
            "Processing Frame :  312\n",
            "Processing Frame :  313\n",
            "Processing Frame :  314\n",
            "Processing Frame :  315\n",
            "Processing Frame :  316\n",
            "Processing Frame :  317\n",
            "Processing Frame :  318\n",
            "Processing Frame :  319\n",
            "Processing Frame :  320\n",
            "Processing Frame :  321\n",
            "Processing Frame :  322\n",
            "Processing Frame :  323\n",
            "Processing Frame :  324\n",
            "Processing Frame :  325\n",
            "Processing Frame :  326\n",
            "Processing Frame :  327\n",
            "Processing Frame :  328\n",
            "Processing Frame :  329\n",
            "Processing Frame :  330\n",
            "Processing Frame :  331\n",
            "Processing Frame :  332\n",
            "Processing Frame :  333\n",
            "Processing Frame :  334\n",
            "Processing Frame :  335\n",
            "Processing Frame :  336\n",
            "Processing Frame :  337\n",
            "Processing Frame :  338\n",
            "Processing Frame :  339\n",
            "Processing Frame :  340\n",
            "Processing Frame :  341\n"
          ]
        }
      ]
    },
    {
      "cell_type": "markdown",
      "source": [
        "## **Using Webcam**"
      ],
      "metadata": {
        "id": "9DMnfBf4K1c9"
      }
    },
    {
      "cell_type": "code",
      "source": [
        "import cv2 as cv"
      ],
      "metadata": {
        "id": "cOKT0wNjK1Gm"
      },
      "execution_count": 31,
      "outputs": []
    },
    {
      "cell_type": "code",
      "source": [
        "camera = cv.VideoCapture(0)"
      ],
      "metadata": {
        "id": "f4qPHRkuK8eU"
      },
      "execution_count": 32,
      "outputs": []
    },
    {
      "cell_type": "code",
      "source": [
        "webcam_detector = VideoObjectDetection()\n",
        "webcam_detector.setModelTypeAsYOLOv3()\n",
        "webcam_detector.setModelPath(os.path.join(model_path , \"yolov3.pt\"))\n",
        "webcam_detector.loadModel()"
      ],
      "metadata": {
        "id": "K-t1tgY7K_t9"
      },
      "execution_count": 34,
      "outputs": []
    },
    {
      "cell_type": "code",
      "source": [
        "vid_detection = video_detector.detectObjectsFromVideo(camera_input=camera, output_file_path = os.path.join(video_path, \"camera_detected_video\"),\n",
        "                frames_per_second = 20, log_progress=True)"
      ],
      "metadata": {
        "id": "bsFgfyD_LEIt"
      },
      "execution_count": 35,
      "outputs": []
    }
  ]
}